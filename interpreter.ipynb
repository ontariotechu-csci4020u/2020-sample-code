{
 "cells": [
  {
   "cell_type": "markdown",
   "metadata": {},
   "source": [
    "# Programming constructs as data structures"
   ]
  },
  {
   "cell_type": "markdown",
   "metadata": {},
   "source": [
    "- Data literals: e.g. 3.1415, \"Hello world\".\n",
    "- Arithmetic expressions: `+`, `-`, `*`, `/`.\n",
    "- Variables:\n",
    "    - Referencing variables: `pi`\n",
    "    - Assignment of variables: `pi = 3.1415`\n",
    "- Logical conditions: `pi < 3`\n",
    "- If/Else branching"
   ]
  },
  {
   "cell_type": "markdown",
   "metadata": {},
   "source": [
    "# Everything is an instance of `Expr` class."
   ]
  },
  {
   "cell_type": "code",
   "execution_count": 1,
   "metadata": {},
   "outputs": [],
   "source": [
    "#\n",
    "# Expr base class\n",
    "#\n",
    "class Expr:\n",
    "    def evaluate(self, context):\n",
    "        raise Exception(\"Not implement\")\n",
    "    def __str__(self):\n",
    "        return \"__str__() is not implemented.\""
   ]
  },
  {
   "cell_type": "code",
   "execution_count": 2,
   "metadata": {},
   "outputs": [],
   "source": [
    "#\n",
    "# Literal\n",
    "#\n",
    "\n",
    "class Literal(Expr):\n",
    "    def __init__(self, value):\n",
    "        self.value = value\n",
    "        \n",
    "    def evaluate(self, context):\n",
    "        return self.value\n",
    "    \n",
    "    def __str__(self):\n",
    "        return \"%s\" % self.value"
   ]
  },
  {
   "cell_type": "code",
   "execution_count": 3,
   "metadata": {},
   "outputs": [
    {
     "name": "stdout",
     "output_type": "stream",
     "text": [
      "3.1415 => 3.1415\n"
     ]
    }
   ],
   "source": [
    "###\n",
    "# 3.1415\n",
    "###\n",
    "\n",
    "e = Literal(3.1415)\n",
    "print(\"%s => %s\" % (e, e.evaluate(None)))"
   ]
  },
  {
   "cell_type": "code",
   "execution_count": 4,
   "metadata": {},
   "outputs": [],
   "source": [
    "#\n",
    "# Arith - mathematical operations over two expressions\n",
    "#\n",
    "\n",
    "class Arith(Expr):\n",
    "    math_ops = {\n",
    "        'plus': lambda x,y:x + y,\n",
    "        'sub': lambda x, y: x - y,\n",
    "        'mult': lambda x, y: x * y,\n",
    "        'div': lambda x, y: x / y\n",
    "    }\n",
    "    \n",
    "    def __init__(self, left:Expr, op:str, right:Expr):\n",
    "        self.left = left\n",
    "        self.op = op\n",
    "        self.right = right\n",
    "    \n",
    "    def evaluate(self, context):\n",
    "        if self.op in self.math_ops:\n",
    "            f = self.math_ops[self.op]\n",
    "            x = self.left.evaluate(context)\n",
    "            y = self.right.evaluate(context)\n",
    "            return f(x, y)\n",
    "        else:\n",
    "            raise Exception(\"Unknown operator: %s\" % self.op)\n",
    "            \n",
    "    def __str__(self):\n",
    "        return \"(%s %s %s)\" % (self.op, self.left, self.right)\n",
    "    "
   ]
  },
  {
   "cell_type": "code",
   "execution_count": 5,
   "metadata": {},
   "outputs": [
    {
     "name": "stdout",
     "output_type": "stream",
     "text": [
      "(mult 3.1415 (mult 10.2 10.2))\n",
      "=> 326.84166\n"
     ]
    }
   ],
   "source": [
    "####\n",
    "# Area of a circle with radius of 10.2\n",
    "# 3.1415 * (10.2 * 10.2)\n",
    "####\n",
    "\n",
    "e= Arith(\n",
    "    Literal(3.1415), \n",
    "    'mult',\n",
    "    Arith(\n",
    "        Literal(10.2),\n",
    "        'mult',\n",
    "        Literal(10.2)))\n",
    "print(\"%s\\n=> %s\" % (e, e.evaluate(None)))"
   ]
  },
  {
   "cell_type": "markdown",
   "metadata": {},
   "source": [
    "# Definition of a context\n",
    "\n",
    "> A context is a mapping of variable (names) to their data values.\n",
    "\n",
    "This is also known as a _scope_ (refer to _Programming Languages_)."
   ]
  },
  {
   "cell_type": "code",
   "execution_count": 8,
   "metadata": {},
   "outputs": [],
   "source": [
    "#\n",
    "# Manually create a context\n",
    "#\n",
    "C = {\n",
    "    \"pi\": 3.1415,\n",
    "    \"radius\": 10.2\n",
    "}"
   ]
  },
  {
   "cell_type": "code",
   "execution_count": 9,
   "metadata": {},
   "outputs": [],
   "source": [
    "#\n",
    "# Variable\n",
    "#\n",
    "\n",
    "class Var(Expr):\n",
    "    def __init__(self, name):\n",
    "        self.name = name\n",
    "        \n",
    "    def evaluate(self, context):\n",
    "        if self.name in context:\n",
    "            return context[self.name]\n",
    "        else:\n",
    "            raise Exception(\"Variable is not defined in context: %s\" % self.name)\n",
    "    \n",
    "    def __str__(self):\n",
    "        return self.name"
   ]
  },
  {
   "cell_type": "code",
   "execution_count": 11,
   "metadata": {},
   "outputs": [
    {
     "name": "stdout",
     "output_type": "stream",
     "text": [
      "pi\n",
      "=> 3.1415\n"
     ]
    }
   ],
   "source": [
    "#####\n",
    "# Looking up the value of pi by variable reference:\n",
    "# pi\n",
    "#####\n",
    "e = Var(\"pi\")\n",
    "print(\"%s\\n=> %s\" % (e, e.evaluate(C)))"
   ]
  },
  {
   "cell_type": "code",
   "execution_count": 14,
   "metadata": {},
   "outputs": [
    {
     "name": "stdout",
     "output_type": "stream",
     "text": [
      "(mult pi (mult radius radius))\n",
      "=> 326.84166\n"
     ]
    }
   ],
   "source": [
    "####\n",
    "# Calculate the area of the circle using variables\n",
    "# pi * radius * radius\n",
    "####\n",
    "\n",
    "e = Arith(Var(\"pi\"), 'mult', Arith(Var(\"radius\"), 'mult', Var(\"radius\")))\n",
    "print(\"%s\\n=> %s\" % (e, e.evaluate(C)))"
   ]
  },
  {
   "cell_type": "code",
   "execution_count": 18,
   "metadata": {},
   "outputs": [],
   "source": [
    "#\n",
    "# Assignment to variables\n",
    "#\n",
    "\n",
    "class Assign(Expr):\n",
    "    def __init__(self, name:str, expr:Expr):\n",
    "        self.name = name\n",
    "        self.expr = expr\n",
    "        \n",
    "    def evaluate(self, context):\n",
    "        value = self.expr.evaluate(context)\n",
    "        context[self.name] = value\n",
    "        return value\n",
    "        \n",
    "    def __str__(self):\n",
    "        return \"%s = %s\" % (self.name, self.expr)"
   ]
  },
  {
   "cell_type": "code",
   "execution_count": 20,
   "metadata": {},
   "outputs": [
    {
     "name": "stdout",
     "output_type": "stream",
     "text": [
      "i = 0\n",
      "=> 0\n"
     ]
    }
   ],
   "source": [
    "#####\n",
    "# i = 0\n",
    "#####\n",
    "e = Assign(\"i\", Literal(0))\n",
    "print(\"%s\\n=> %s\" % (e, e.evaluate(C)))"
   ]
  },
  {
   "cell_type": "code",
   "execution_count": 21,
   "metadata": {},
   "outputs": [
    {
     "data": {
      "text/plain": [
       "{'pi': 3.1415, 'radius': 10.2, 'i': 0}"
      ]
     },
     "execution_count": 21,
     "metadata": {},
     "output_type": "execute_result"
    }
   ],
   "source": [
    "C"
   ]
  },
  {
   "cell_type": "code",
   "execution_count": 22,
   "metadata": {},
   "outputs": [
    {
     "name": "stdout",
     "output_type": "stream",
     "text": [
      "i = (plus i 1)\n",
      "=> 1\n"
     ]
    }
   ],
   "source": [
    "#####\n",
    "# i = i + 1\n",
    "#####\n",
    "e = Assign(\"i\", Arith(Var(\"i\"), 'plus', Literal(1)))\n",
    "print(\"%s\\n=> %s\" % (e, e.evaluate(C)))"
   ]
  },
  {
   "cell_type": "code",
   "execution_count": 23,
   "metadata": {},
   "outputs": [
    {
     "data": {
      "text/plain": [
       "{'pi': 3.1415, 'radius': 10.2, 'i': 1}"
      ]
     },
     "execution_count": 23,
     "metadata": {},
     "output_type": "execute_result"
    }
   ],
   "source": [
    "C"
   ]
  },
  {
   "cell_type": "markdown",
   "metadata": {},
   "source": [
    "# Branching\n",
    "\n",
    "- Logical condition expressions\n",
    "- IfElse expressions"
   ]
  },
  {
   "cell_type": "code",
   "execution_count": 24,
   "metadata": {},
   "outputs": [],
   "source": [
    "#\n",
    "# Conditions\n",
    "#\n",
    "\n",
    "logical_cond = {\n",
    "    'lt': lambda x,y: x < y,\n",
    "    'gt': lambda x,y: x > y,\n",
    "    'ne': lambda x,y: not(x == y),\n",
    "    'le': lambda x,y: x <= y,\n",
    "    'ge': lambda x,y: x >= y,\n",
    "    'eq': lambda x,y: x == y,\n",
    "    'and': lambda x,y: x and y,\n",
    "    'or': lambda x,y: x or y\n",
    "}\n",
    "\n",
    "class Cond(Arith):\n",
    "    def evaluate(self, context):\n",
    "        x = self.left.evaluate(context)\n",
    "        y = self.right.evaluate(context)\n",
    "        return logical_cond[self.op](x, y)"
   ]
  },
  {
   "cell_type": "code",
   "execution_count": 25,
   "metadata": {},
   "outputs": [
    {
     "name": "stdout",
     "output_type": "stream",
     "text": [
      "C =  {'pi': 3.1415, 'radius': 10.2, 'i': 1}\n",
      "(gt radius 10)\n",
      "=> True\n"
     ]
    }
   ],
   "source": [
    "######\n",
    "# radius > 10\n",
    "######\n",
    "print(\"C = \", C)\n",
    "e = Cond(Var(\"radius\"), 'gt', Literal(10))\n",
    "print(\"%s\\n=> %s\" % (e, e.evaluate(C)))"
   ]
  },
  {
   "cell_type": "code",
   "execution_count": 45,
   "metadata": {},
   "outputs": [],
   "source": [
    "#\n",
    "# Branching expression with if-else\n",
    "#\n",
    "\n",
    "class IfElse(Expr):\n",
    "    def __init__(self, cond:Cond, if_expr:Expr, else_expr:Expr):\n",
    "        self.cond = cond\n",
    "        self.if_expr = if_expr\n",
    "        self.else_expr = else_expr\n",
    "    \n",
    "    def evaluate(self, context):\n",
    "        if self.cond.evaluate(context):\n",
    "            return self.if_expr.evaluate(context)\n",
    "        else:\n",
    "            return self.else_expr.evaluate(context)\n",
    "        \n",
    "    def __str__(self):\n",
    "        return \"if %s {\\n%s\\n} else {\\n%s\\n}\" % (self.cond, self.if_expr, self.else_expr)"
   ]
  },
  {
   "cell_type": "code",
   "execution_count": 46,
   "metadata": {},
   "outputs": [
    {
     "name": "stdout",
     "output_type": "stream",
     "text": [
      "C =  {'pi': 3.1415, 'radius': 10.2, 'i': 1}\n",
      "if (gt radius 100) {\n",
      "Greater than 10\n",
      "} else {\n",
      "not bigger than 10\n",
      "}\n",
      "=> not bigger than 10\n"
     ]
    }
   ],
   "source": [
    "#######\n",
    "# if radius > 10 then\n",
    "#   \"Greater than 10\"\n",
    "# else\n",
    "#   \"not bigger than 10\"\n",
    "#######\n",
    "\n",
    "e = IfElse(\n",
    "    Cond(Var(\"radius\"), 'gt', Literal(100)),\n",
    "    Literal(\"Greater than 10\"),\n",
    "    Literal(\"not bigger than 10\")\n",
    ")\n",
    "\n",
    "print(\"C = \", C)\n",
    "print(\"%s\\n=> %s\" % (e, e.evaluate(C)))"
   ]
  },
  {
   "cell_type": "markdown",
   "metadata": {},
   "source": [
    "# Blocks\n",
    "\n",
    "- can hold multiple (in a sequence) arbitrary expressions\n",
    "- a block of expressions is evaluated to be the result of its _last_ expression."
   ]
  },
  {
   "cell_type": "code",
   "execution_count": 28,
   "metadata": {},
   "outputs": [],
   "source": [
    "class Block(Expr):\n",
    "    def __init__(self, expr_list):\n",
    "        self.expr_list = expr_list\n",
    "        \n",
    "    def evaluate(self, ctx):\n",
    "        result = None\n",
    "        for e in self.expr_list:\n",
    "            result = e.evaluate(ctx)\n",
    "        return result\n",
    "    \n",
    "    def __str__(self):\n",
    "        return \"\\n\".join(str(e) for e in self.expr_list)"
   ]
  },
  {
   "cell_type": "code",
   "execution_count": 29,
   "metadata": {},
   "outputs": [
    {
     "name": "stdout",
     "output_type": "stream",
     "text": [
      "i = 10\n",
      "j = 20\n",
      "(plus i j)\n",
      "=> 30\n"
     ]
    }
   ],
   "source": [
    "####\n",
    "# i = 10\n",
    "# j = 20\n",
    "# i + j\n",
    "####\n",
    "\n",
    "e = Block([\n",
    "    Assign(\"i\", Literal(10)),\n",
    "    Assign(\"j\", Literal(20)),\n",
    "    Arith(Var(\"i\"), \"plus\", Var(\"j\"))\n",
    "])\n",
    "print(\"%s\\n=> %s\" % (e, e.evaluate({})))"
   ]
  },
  {
   "cell_type": "markdown",
   "metadata": {},
   "source": [
    "# While loops\n",
    "\n",
    "- constructed by a condition and a block\n",
    "- evaluation returns the last expression that has been evaluated during the loop iteration."
   ]
  },
  {
   "cell_type": "code",
   "execution_count": 30,
   "metadata": {},
   "outputs": [],
   "source": [
    "class WhileLoop(Expr):\n",
    "    def __init__(self, cond:Cond, body:Expr):\n",
    "        self.cond = cond\n",
    "        self.body = body\n",
    "    \n",
    "    def evaluate(self, context):\n",
    "        result = None\n",
    "        while self.cond.evaluate(context):\n",
    "            result = self.body.evaluate(context)\n",
    "        return result\n",
    "    \n",
    "    def __str__(self):\n",
    "        return \"while %s {\\n%s\\n}\" % (self.cond, self.body)"
   ]
  },
  {
   "cell_type": "code",
   "execution_count": 36,
   "metadata": {},
   "outputs": [
    {
     "name": "stdout",
     "output_type": "stream",
     "text": [
      "i = 0\n",
      "sum = 0\n",
      "while (le i 1000) {\n",
      "sum = (plus sum i)\n",
      "i = (plus i 1)\n",
      "}\n",
      "sum\n",
      "=> 500500\n"
     ]
    }
   ],
   "source": [
    "######\n",
    "# i = 0\n",
    "# sum = 0\n",
    "# while i <= 1000:\n",
    "#   sum = sum + i\n",
    "#   i = i + 1\n",
    "# sum\n",
    "######\n",
    "\n",
    "e = Block([\n",
    "    Assign(\"i\", Literal(0)),\n",
    "    Assign(\"sum\", Literal(0)),\n",
    "    WhileLoop(\n",
    "        Cond(Var(\"i\"), \"le\", Literal(1000)),\n",
    "        Block([\n",
    "            Assign(\"sum\", Arith(Var(\"sum\"), \"plus\", Var(\"i\"))),\n",
    "            Assign(\"i\", Arith(Var(\"i\"), \"plus\", Literal(1)))\n",
    "        ])),\n",
    "    Var(\"sum\")\n",
    "])\n",
    "\n",
    "print(\"%s\\n=> %s\" % (e, e.evaluate({})))"
   ]
  },
  {
   "cell_type": "markdown",
   "metadata": {},
   "source": [
    "# Function Declaration\n",
    "\n",
    "Constructed from:\n",
    "\n",
    "- A name:str, this name will be used to create a new entry in the context (like Assign)\n",
    "- A list of parameter names (which are strings)\n",
    "- A body:Expr\n"
   ]
  },
  {
   "cell_type": "code",
   "execution_count": 37,
   "metadata": {},
   "outputs": [],
   "source": [
    "class FuncDecl(Expr):\n",
    "    def __init__(self, name:str, param_names:[str], body:Expr):\n",
    "        self.name = name\n",
    "        self.param_names = param_names\n",
    "        self.body = body\n",
    "    \n",
    "    def evaluate(self, context):\n",
    "        context[self.name] = self\n",
    "        return None\n",
    "    \n",
    "    def __str__(self):\n",
    "        return \"function %s(%s) {\\n%s\\n}\" % (self.name,\n",
    "                                            \",\".join(self.param_names),\n",
    "                                            self.body)"
   ]
  },
  {
   "cell_type": "code",
   "execution_count": 39,
   "metadata": {},
   "outputs": [
    {
     "name": "stdout",
     "output_type": "stream",
     "text": [
      "function add(i,j) {\n",
      "(plus i j)\n",
      "}\n",
      "=> None\n"
     ]
    }
   ],
   "source": [
    "######\n",
    "# def add(i, j):\n",
    "#   return i + j\n",
    "######\n",
    "\n",
    "e = FuncDecl(\"add\", [\"i\", \"j\"], Arith(Var(\"i\"), \"plus\", Var(\"j\")))\n",
    "print(\"%s\\n=> %s\" % (e, e.evaluate({})))"
   ]
  },
  {
   "cell_type": "markdown",
   "metadata": {},
   "source": [
    "# Function Invocation\n",
    "\n",
    "Constructed:\n",
    "\n",
    "- name of function as a string\n",
    "- a list of expressions as arguments\n",
    "\n",
    "Evaluation:\n",
    "\n",
    "- Need to evaluate each argument.\n",
    "- **Need to create a sub-context by copying the existing context, and create additional symbol bindings\n",
    "that bind parameter names to the respective arguments**\n",
    "- Evaluate the body of the function."
   ]
  },
  {
   "cell_type": "code",
   "execution_count": 47,
   "metadata": {},
   "outputs": [],
   "source": [
    "class FuncInvoke(Expr):\n",
    "    def __init__(self, name:str, arg_list:[Expr]):\n",
    "        self.name = name\n",
    "        self.arg_list = arg_list\n",
    "    \n",
    "    def evaluate(self, context):\n",
    "        f = context[self.name]\n",
    "        \n",
    "        if not len(f.param_names) == len(self.arg_list):\n",
    "            raise Exception(\"Incorrect number of arguments.\")\n",
    "        \n",
    "        arg_values = [e.evaluate(context) for e in self.arg_list]\n",
    "        subctx = context.copy()\n",
    "        subctx.update(zip(f.param_names, arg_values))\n",
    "        \n",
    "        return f.body.evaluate(subctx)\n",
    "    \n",
    "    def __str__(self):\n",
    "        return \"%s(%s)\" % (self.name, \",\".join(str(e) for e in self.arg_list))"
   ]
  },
  {
   "cell_type": "code",
   "execution_count": 48,
   "metadata": {},
   "outputs": [
    {
     "name": "stdout",
     "output_type": "stream",
     "text": [
      "function f(i,j) {\n",
      "(plus i j)\n",
      "}\n",
      "f(10,20)\n",
      "=> 30\n"
     ]
    }
   ],
   "source": [
    "######\n",
    "# def f(i, j):\n",
    "#   i + j\n",
    "#\n",
    "# f(10, 20)\n",
    "######\n",
    "\n",
    "e = Block([\n",
    "    FuncDecl(\"f\", [\"i\", \"j\"], Arith(Var(\"i\"), \"plus\", Var(\"j\"))),\n",
    "    FuncInvoke(\"f\", [Literal(10), Literal(20)])\n",
    "])\n",
    "\n",
    "print(\"%s\\n=> %s\" % (e, e.evaluate({})))"
   ]
  },
  {
   "cell_type": "markdown",
   "metadata": {},
   "source": [
    "# Recursive implementation of Fibonacci numbers\n",
    "\n",
    "```\n",
    "def fib(n):\n",
    "  if n <= 2:\n",
    "     1\n",
    "  else:\n",
    "     fib(n-1) + fib(n-2)\n",
    "     \n",
    "fib(10)\n",
    "```"
   ]
  },
  {
   "cell_type": "code",
   "execution_count": 50,
   "metadata": {},
   "outputs": [
    {
     "name": "stdout",
     "output_type": "stream",
     "text": [
      "function fib(n) {\n",
      "if (le n 2) {\n",
      "1\n",
      "} else {\n",
      "(plus fib((sub n 1)) fib((sub n 2)))\n",
      "}\n",
      "}\n",
      "fib(20)\n",
      "=> 6765\n"
     ]
    }
   ],
   "source": [
    "e = Block([\n",
    "    FuncDecl(\"fib\",\n",
    "             [\"n\"],\n",
    "            IfElse(\n",
    "                Cond(Var(\"n\"), \"le\", Literal(2)),\n",
    "                Literal(1),\n",
    "                Arith(\n",
    "                    FuncInvoke(\"fib\", [Arith(Var(\"n\"), \"sub\", Literal(1))]),\n",
    "                    \"plus\",\n",
    "                    FuncInvoke(\"fib\", [Arith(Var(\"n\"), \"sub\", Literal(2))])\n",
    "                ))),\n",
    "    FuncInvoke(\"fib\", [Literal(20)])\n",
    "])\n",
    "\n",
    "print(\"%s\\n=> %s\" % (e, e.evaluate({})))"
   ]
  },
  {
   "cell_type": "code",
   "execution_count": null,
   "metadata": {},
   "outputs": [],
   "source": []
  }
 ],
 "metadata": {
  "kernelspec": {
   "display_name": "Python 3",
   "language": "python",
   "name": "python3"
  },
  "language_info": {
   "codemirror_mode": {
    "name": "ipython",
    "version": 3
   },
   "file_extension": ".py",
   "mimetype": "text/x-python",
   "name": "python",
   "nbconvert_exporter": "python",
   "pygments_lexer": "ipython3",
   "version": "3.7.6"
  }
 },
 "nbformat": 4,
 "nbformat_minor": 4
}
