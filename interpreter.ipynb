{
 "cells": [
  {
   "cell_type": "markdown",
   "metadata": {},
   "source": [
    "# Programming constructs as data structures"
   ]
  },
  {
   "cell_type": "markdown",
   "metadata": {},
   "source": [
    "- Data literals: e.g. 3.1415, \"Hello world\".\n",
    "- Arithmetic expressions: `+`, `-`, `*`, `/`.\n",
    "- Variables:\n",
    "    - Referencing variables: `pi`\n",
    "    - Assignment of variables: `pi = 3.1415`\n",
    "- Logical conditions: `pi < 3`\n",
    "- If/Else branching"
   ]
  },
  {
   "cell_type": "markdown",
   "metadata": {},
   "source": [
    "# Everything is an instance of `Expr` class."
   ]
  },
  {
   "cell_type": "code",
   "execution_count": 1,
   "metadata": {},
   "outputs": [],
   "source": [
    "#\n",
    "# Expr base class\n",
    "#\n",
    "class Expr:\n",
    "    def evaluate(self, context):\n",
    "        raise Exception(\"Not implement\")"
   ]
  },
  {
   "cell_type": "code",
   "execution_count": 2,
   "metadata": {},
   "outputs": [],
   "source": [
    "#\n",
    "# Literal\n",
    "#\n",
    "\n",
    "class Literal(Expr):\n",
    "    def __init__(self, value):\n",
    "        self.value = value\n",
    "        \n",
    "    def evaluate(self, context):\n",
    "        return self.value"
   ]
  },
  {
   "cell_type": "code",
   "execution_count": 5,
   "metadata": {},
   "outputs": [
    {
     "data": {
      "text/plain": [
       "3.1415"
      ]
     },
     "execution_count": 5,
     "metadata": {},
     "output_type": "execute_result"
    }
   ],
   "source": [
    "###\n",
    "# 3.1415\n",
    "###\n",
    "\n",
    "e = Literal(3.1415)\n",
    "e.evaluate(None)"
   ]
  },
  {
   "cell_type": "code",
   "execution_count": 6,
   "metadata": {},
   "outputs": [],
   "source": [
    "#\n",
    "# Arith - mathematical operations over two expressions\n",
    "#\n",
    "\n",
    "class Arith(Expr):\n",
    "    math_ops = {\n",
    "        'plus': lambda x,y:x + y,\n",
    "        'sub': lambda x, y: x - y,\n",
    "        'mult': lambda x, y: x * y,\n",
    "        'div': lambda x, y: x / y\n",
    "    }\n",
    "    \n",
    "    def __init__(self, left:Expr, op:str, right:Expr):\n",
    "        self.left = left\n",
    "        self.op = op\n",
    "        self.right = right\n",
    "    \n",
    "    def evaluate(self, context):\n",
    "        if self.op in self.math_ops:\n",
    "            f = self.math_ops[self.op]\n",
    "            x = self.left.evaluate(context)\n",
    "            y = self.right.evaluate(context)\n",
    "            return f(x, y)\n",
    "        else:\n",
    "            raise Exception(\"Unknown operator: %s\" % self.op)"
   ]
  },
  {
   "cell_type": "code",
   "execution_count": 8,
   "metadata": {},
   "outputs": [
    {
     "data": {
      "text/plain": [
       "326.84166"
      ]
     },
     "execution_count": 8,
     "metadata": {},
     "output_type": "execute_result"
    }
   ],
   "source": [
    "####\n",
    "# Area of a circle with radius of 10.2\n",
    "# 3.1415 * (10.2 * 10.2)\n",
    "####\n",
    "\n",
    "Arith(\n",
    "    Literal(3.1415), \n",
    "    'mult',\n",
    "    Arith(\n",
    "        Literal(10.2),\n",
    "        'mult',\n",
    "        Literal(10.2))).evaluate(None)"
   ]
  },
  {
   "cell_type": "markdown",
   "metadata": {},
   "source": [
    "# Definition of a context\n",
    "\n",
    "> A context is a mapping of variable (names) to their data values.\n",
    "\n",
    "This is also known as a _scope_ (refer to _Programming Languages_)."
   ]
  },
  {
   "cell_type": "code",
   "execution_count": 9,
   "metadata": {},
   "outputs": [],
   "source": [
    "#\n",
    "# Manually create a context\n",
    "#\n",
    "C = {\n",
    "    \"pi\": 3.1415,\n",
    "    \"radius\": 10.2\n",
    "}"
   ]
  },
  {
   "cell_type": "code",
   "execution_count": 10,
   "metadata": {},
   "outputs": [],
   "source": [
    "#\n",
    "# Variable\n",
    "#\n",
    "\n",
    "class Var(Expr):\n",
    "    def __init__(self, name):\n",
    "        self.name = name\n",
    "        \n",
    "    def evaluate(self, context):\n",
    "        if self.name in context:\n",
    "            return context[self.name]\n",
    "        else:\n",
    "            raise Exception(\"Variable is not defined in context: %s\" % self.name)"
   ]
  },
  {
   "cell_type": "code",
   "execution_count": 13,
   "metadata": {},
   "outputs": [
    {
     "data": {
      "text/plain": [
       "3.1415"
      ]
     },
     "execution_count": 13,
     "metadata": {},
     "output_type": "execute_result"
    }
   ],
   "source": [
    "#####\n",
    "# Looking up the value of pi by variable reference:\n",
    "# pi\n",
    "#####\n",
    "Var(\"pi\").evaluate(C)"
   ]
  },
  {
   "cell_type": "code",
   "execution_count": 16,
   "metadata": {},
   "outputs": [
    {
     "data": {
      "text/plain": [
       "326.84166"
      ]
     },
     "execution_count": 16,
     "metadata": {},
     "output_type": "execute_result"
    }
   ],
   "source": [
    "####\n",
    "# Calculate the area of the circle using variables\n",
    "# pi * radius * radius\n",
    "####\n",
    "\n",
    "Arith(Var(\"pi\"), 'mult', Arith(Var(\"radius\"), 'mult', Var(\"radius\"))).evaluate(C)"
   ]
  },
  {
   "cell_type": "code",
   "execution_count": 17,
   "metadata": {},
   "outputs": [],
   "source": [
    "#\n",
    "# Assignment to variables\n",
    "#\n",
    "\n",
    "class Assign(Expr):\n",
    "    def __init__(self, name:str, expr:Expr):\n",
    "        self.name = name\n",
    "        self.expr = expr\n",
    "        \n",
    "    def evaluate(self, context):\n",
    "        value = self.expr.evaluate(context)\n",
    "        context[self.name] = value"
   ]
  },
  {
   "cell_type": "code",
   "execution_count": 19,
   "metadata": {},
   "outputs": [],
   "source": [
    "#####\n",
    "# i = 0\n",
    "#####\n",
    "Assign(\"i\", Literal(0)).evaluate(C)"
   ]
  },
  {
   "cell_type": "code",
   "execution_count": 20,
   "metadata": {},
   "outputs": [
    {
     "data": {
      "text/plain": [
       "{'pi': 3.1415, 'radius': 10.2, 'i': 0}"
      ]
     },
     "execution_count": 20,
     "metadata": {},
     "output_type": "execute_result"
    }
   ],
   "source": [
    "C"
   ]
  },
  {
   "cell_type": "code",
   "execution_count": 22,
   "metadata": {},
   "outputs": [],
   "source": [
    "#####\n",
    "# i = i + 1\n",
    "#####\n",
    "Assign(\"i\", Arith(Var(\"i\"), 'plus', Literal(1))).evaluate(C)"
   ]
  },
  {
   "cell_type": "code",
   "execution_count": 23,
   "metadata": {},
   "outputs": [
    {
     "data": {
      "text/plain": [
       "{'pi': 3.1415, 'radius': 10.2, 'i': 1}"
      ]
     },
     "execution_count": 23,
     "metadata": {},
     "output_type": "execute_result"
    }
   ],
   "source": [
    "C"
   ]
  },
  {
   "cell_type": "markdown",
   "metadata": {},
   "source": [
    "# Branching\n",
    "\n",
    "- Logical condition expressions\n",
    "- IfElse expressions"
   ]
  },
  {
   "cell_type": "code",
   "execution_count": 25,
   "metadata": {},
   "outputs": [],
   "source": [
    "#\n",
    "# Conditions\n",
    "#\n",
    "\n",
    "logical_cond = {\n",
    "    'lt': lambda x,y: x < y,\n",
    "    'gt': lambda x,y: x > y,\n",
    "    'ne': lambda x,y: not(x == y),\n",
    "    'eq': lambda x,y: x == y,\n",
    "    'and': lambda x,y: x and y,\n",
    "    'or': lambda x,y: x or y\n",
    "}\n",
    "\n",
    "class Cond(Arith):\n",
    "    def evaluate(self, context):\n",
    "        x = self.left.evaluate(context)\n",
    "        y = self.right.evaluate(context)\n",
    "        return logical_cond[self.op](x, y)"
   ]
  },
  {
   "cell_type": "code",
   "execution_count": 31,
   "metadata": {},
   "outputs": [
    {
     "name": "stdout",
     "output_type": "stream",
     "text": [
      "C =  {'pi': 3.1415, 'radius': 10.2, 'i': 1}\n"
     ]
    },
    {
     "data": {
      "text/plain": [
       "True"
      ]
     },
     "execution_count": 31,
     "metadata": {},
     "output_type": "execute_result"
    }
   ],
   "source": [
    "######\n",
    "# radius > 10\n",
    "######\n",
    "print(\"C = \", C)\n",
    "Cond(Var(\"radius\"), 'gt', Literal(10)).evaluate(C)"
   ]
  },
  {
   "cell_type": "code",
   "execution_count": 32,
   "metadata": {},
   "outputs": [],
   "source": [
    "#\n",
    "# Branching expression with if-else\n",
    "#\n",
    "\n",
    "class IfElse(Expr):\n",
    "    def __init__(self, cond:Cond, if_expr:Expr, else_expr:Expr):\n",
    "        self.cond = cond\n",
    "        self.if_expr = if_expr\n",
    "        self.else_expr = else_expr\n",
    "    \n",
    "    def evaluate(self, context):\n",
    "        if self.cond.evaluate(context):\n",
    "            return self.if_expr.evaluate(context)\n",
    "        else:\n",
    "            return self.else_expr.evalaute(context)"
   ]
  },
  {
   "cell_type": "code",
   "execution_count": 35,
   "metadata": {},
   "outputs": [
    {
     "name": "stdout",
     "output_type": "stream",
     "text": [
      "C =  {'pi': 3.1415, 'radius': 10.2, 'i': 1}\n"
     ]
    },
    {
     "data": {
      "text/plain": [
       "'Greater than 10'"
      ]
     },
     "execution_count": 35,
     "metadata": {},
     "output_type": "execute_result"
    }
   ],
   "source": [
    "#######\n",
    "# if radius > 10 then\n",
    "#   \"Greater than 10\"\n",
    "# else\n",
    "#   \"not bigger than 10\"\n",
    "#######\n",
    "\n",
    "e = IfElse(\n",
    "    Cond(Var(\"radius\"), 'gt', Literal(10)),\n",
    "    Literal(\"Greater than 10\"),\n",
    "    Literal(\"not bigger than 10\")\n",
    ")\n",
    "\n",
    "print(\"C = \", C)\n",
    "e.evaluate(C)"
   ]
  },
  {
   "cell_type": "markdown",
   "metadata": {},
   "source": [
    "# TODO\n",
    "\n",
    "- Looping with while-loop (for loop, do-while loops)\n",
    "- User defined functions\n",
    "- Support types"
   ]
  },
  {
   "cell_type": "code",
   "execution_count": null,
   "metadata": {},
   "outputs": [],
   "source": []
  }
 ],
 "metadata": {
  "celltoolbar": "Slideshow",
  "kernelspec": {
   "display_name": "Python 3",
   "language": "python",
   "name": "python3"
  },
  "language_info": {
   "codemirror_mode": {
    "name": "ipython",
    "version": 3
   },
   "file_extension": ".py",
   "mimetype": "text/x-python",
   "name": "python",
   "nbconvert_exporter": "python",
   "pygments_lexer": "ipython3",
   "version": "3.7.6"
  }
 },
 "nbformat": 4,
 "nbformat_minor": 4
}
